{
 "cells": [
  {
   "cell_type": "code",
   "execution_count": null,
   "id": "82f60ef9-c964-41d7-8f6e-5ae6dd353b98",
   "metadata": {},
   "outputs": [],
   "source": [
    "print(\"updates\")"
   ]
  },
  {
   "cell_type": "code",
   "execution_count": null,
   "id": "7f053190-22cd-4325-abae-0cc97a09a54c",
   "metadata": {},
   "outputs": [],
   "source": [
    "ss"
   ]
  }
 ],
 "metadata": {
  "kernelspec": {
   "display_name": "Python 3",
   "language": "python",
   "name": "python3"
  },
  "language_info": {
   "codemirror_mode": {
    "name": "ipython",
    "version": 3
   },
   "file_extension": ".py",
   "mimetype": "text/x-python",
   "name": "python",
   "nbconvert_exporter": "python",
   "pygments_lexer": "ipython3",
   "version": "3.8.8"
  }
 },
 "nbformat": 4,
 "nbformat_minor": 5
}
